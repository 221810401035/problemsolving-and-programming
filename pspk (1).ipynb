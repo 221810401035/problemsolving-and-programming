{
 "cells": [
  {
   "cell_type": "markdown",
   "metadata": {},
   "source": [
    "# markdown basics\n",
    "## markdown basics\n",
    "### markdown basics\n",
    "#### markdown basics\n",
    "\n",
    ".point1(bold)\n",
    ".point2(ltalic)\n",
    ".point3(bold &ltlic)\n",
    "\n",
    "\n",
    ".Normal text\n",
    ".sublist1\n",
    ".sublist2\n",
    "\n",
    "\n",
    "\n",
    "        1.point1\n",
    "        2.point2 \n",
    "         \n",
    "\n",
    "\n",
    "\n",
    "\n",
    "        adding links to markdown\n",
    "\n",
    "        .google site..  https://www.google.com/   \n",
    "        .msn site..https://wwwmns.com/\n",
    "        .[option 1\n",
    "        . google site..https://www.google.com/\n",
    "\n",
    "\n",
    "\n",
    "\n",
    "\n",
    "\n",
    "\n",
    "\n"
   ]
  },
  {
   "cell_type": "markdown",
   "metadata": {},
   "source": [
    "### phython basics\n",
    "* python version 3.7\n",
    "* funtional programming\n",
    "* object oriendted programming\n",
    "* scripting programming"
   ]
  },
  {
   "cell_type": "code",
   "execution_count": 1,
   "metadata": {},
   "outputs": [
    {
     "name": "stdout",
     "output_type": "stream",
     "text": [
      "Hello,Gitam\n",
      "Hyderabad\n"
     ]
    }
   ],
   "source": [
    "print(\"Hello,Gitam\")\n",
    "print(\"Hyderabad\")"
   ]
  },
  {
   "cell_type": "code",
   "execution_count": 2,
   "metadata": {},
   "outputs": [
    {
     "ename": "SyntaxError",
     "evalue": "EOL while scanning string literal (<ipython-input-2-c9eeb61252ae>, line 1)",
     "output_type": "error",
     "traceback": [
      "\u001b[1;36m  File \u001b[1;32m\"<ipython-input-2-c9eeb61252ae>\"\u001b[1;36m, line \u001b[1;32m1\u001b[0m\n\u001b[1;33m    print(\"Hello,Gitam\",\")\u001b[0m\n\u001b[1;37m                          ^\u001b[0m\n\u001b[1;31mSyntaxError\u001b[0m\u001b[1;31m:\u001b[0m EOL while scanning string literal\n"
     ]
    }
   ],
   "source": [
    "print(\"Hello,Gitam\",\")\n",
    "print(\"Hyderabad\",end=\")"
   ]
  },
  {
   "cell_type": "code",
   "execution_count": 3,
   "metadata": {},
   "outputs": [
    {
     "name": "stdout",
     "output_type": "stream",
     "text": [
      "100\n",
      "20 20 20\n",
      "111 222 333\n"
     ]
    }
   ],
   "source": [
    "n1=100 # single variable assignment\n",
    "a=b=c=20 # multi variable assignment of the same value\n",
    "a1,b1,c1,=111,222,333 # multi variable assignment with\n",
    "print(n1)\n",
    "print(a,b,c)\n",
    "print(a1,b1,c1)"
   ]
  },
  {
   "cell_type": "code",
   "execution_count": 4,
   "metadata": {},
   "outputs": [
    {
     "name": "stdout",
     "output_type": "stream",
     "text": [
      "100\n",
      "python\n",
      "p\n",
      "3.3\n",
      "<class 'int'>\n",
      "<class 'str'>\n",
      "<class 'str'>\n",
      "<class 'str'>\n"
     ]
    }
   ],
   "source": [
    "a=100;\n",
    "s1=\"python\"\n",
    "s2=\"p\"\n",
    "f1=\"3.3\"\n",
    "print(a);\n",
    "print(s1);\n",
    "print(s2);\n",
    "print(f1);\n",
    "print(type(a));\n",
    "print(type(s1));\n",
    "print(type(s2));\n",
    "print(type(f1));"
   ]
  },
  {
   "cell_type": "code",
   "execution_count": 5,
   "metadata": {},
   "outputs": [
    {
     "name": "stdout",
     "output_type": "stream",
     "text": [
      "1\n",
      "1 1\n",
      "1 1 1\n"
     ]
    }
   ],
   "source": [
    "n1=1\n",
    "print(n1)\n",
    "print(n1,n1)\n",
    "print(n1,n1,n1)"
   ]
  },
  {
   "cell_type": "code",
   "execution_count": 6,
   "metadata": {},
   "outputs": [
    {
     "name": "stdout",
     "output_type": "stream",
     "text": [
      "100 python p 19.1\n",
      "<class 'int'> <class 'str'> <class 'str'> <class 'float'>\n"
     ]
    }
   ],
   "source": [
    "a=100;\n",
    "s1=\"python\"\n",
    "s2='p'\n",
    "s3=19.1\n",
    "print(a,s1,s2,s3)\n",
    "print(type(a),type(s1),type(s2),type(s3))"
   ]
  },
  {
   "cell_type": "code",
   "execution_count": 7,
   "metadata": {},
   "outputs": [
    {
     "name": "stdout",
     "output_type": "stream",
     "text": [
      "<class 'int'>\n",
      "<class 'str'>\n",
      "<class 'float'>\n"
     ]
    }
   ],
   "source": [
    "i=100\n",
    "print(type(i))\n",
    "s1=str(i)\n",
    "print(type(s1))\n",
    "f1=float(i)\n",
    "print(type(f1))"
   ]
  },
  {
   "cell_type": "code",
   "execution_count": 1,
   "metadata": {},
   "outputs": [
    {
     "ename": "SyntaxError",
     "evalue": "unexpected EOF while parsing (<ipython-input-1-b2b3896adbe5>, line 5)",
     "output_type": "error",
     "traceback": [
      "\u001b[1;36m  File \u001b[1;32m\"<ipython-input-1-b2b3896adbe5>\"\u001b[1;36m, line \u001b[1;32m5\u001b[0m\n\u001b[1;33m    print(type(ni)\u001b[0m\n\u001b[1;37m                  ^\u001b[0m\n\u001b[1;31mSyntaxError\u001b[0m\u001b[1;31m:\u001b[0m unexpected EOF while parsing\n"
     ]
    }
   ],
   "source": [
    "n1=5\n",
    "n2=6\n",
    "a=b=c=d=300\n",
    "e=0\n",
    "print(type(ni)"
   ]
  },
  {
   "cell_type": "code",
   "execution_count": 2,
   "metadata": {},
   "outputs": [
    {
     "name": "stdout",
     "output_type": "stream",
     "text": [
      "<class 'str'>\n",
      "<class 'int'>\n",
      "<class 'int'>\n",
      "1\n"
     ]
    }
   ],
   "source": [
    "s1=\"100\"\n",
    "print(type(s1))\n",
    "a=int(s1)\n",
    "print(type(a))\n",
    "f=1.5\n",
    "a1=int(f)\n",
    "print(type(a1))\n",
    "print(a1)"
   ]
  },
  {
   "cell_type": "code",
   "execution_count": 3,
   "metadata": {},
   "outputs": [
    {
     "name": "stdout",
     "output_type": "stream",
     "text": [
      "4\n"
     ]
    }
   ],
   "source": [
    "# length of a string\n",
    "a1=1234\n",
    "print(len(str(a1)))"
   ]
  },
  {
   "cell_type": "code",
   "execution_count": 5,
   "metadata": {},
   "outputs": [
    {
     "name": "stdout",
     "output_type": "stream",
     "text": [
      "enter your namevgvgv\n",
      "vgvgv\n",
      "<class 'str'>\n"
     ]
    }
   ],
   "source": [
    "# reading a value-input function\n",
    "s1=input(\"enter your name\")\n",
    "print(s1)\n",
    "print(type(s1))\n"
   ]
  },
  {
   "cell_type": "code",
   "execution_count": 22,
   "metadata": {},
   "outputs": [
    {
     "name": "stdout",
     "output_type": "stream",
     "text": [
      "enter a number14\n",
      "even\n"
     ]
    }
   ],
   "source": [
    "# to check given number is even or odd\n",
    "n = int(input(\"enter a number\"))\n",
    "if n % 2 == 0:\n",
    "    print(\"even\")\n",
    "    \n",
    "else:\n",
    "     print(\"odd\")\n"
   ]
  },
  {
   "cell_type": "code",
   "execution_count": 23,
   "metadata": {},
   "outputs": [
    {
     "name": "stdout",
     "output_type": "stream",
     "text": [
      "enter your namepskp\n",
      "pskp\n",
      "<class 'str'>\n"
     ]
    }
   ],
   "source": [
    "# reading a value-input function\n",
    "s1=input(\"enter your name\")\n",
    "print(s1)\n",
    "print(type(s1))\n"
   ]
  },
  {
   "cell_type": "code",
   "execution_count": null,
   "metadata": {},
   "outputs": [],
   "source": []
  },
  {
   "cell_type": "code",
   "execution_count": 24,
   "metadata": {},
   "outputs": [
    {
     "name": "stdout",
     "output_type": "stream",
     "text": [
      "enter a number26\n",
      "even\n"
     ]
    }
   ],
   "source": [
    "n = int(input(\"enter a number\"))\n",
    "if n % 2 == 0:\n",
    "    print(\"even\")\n",
    "else:\n",
    "     print(\"odd\")\n"
   ]
  },
  {
   "cell_type": "code",
   "execution_count": 25,
   "metadata": {},
   "outputs": [
    {
     "name": "stdout",
     "output_type": "stream",
     "text": [
      "enter a number19\n",
      "19 <class 'int'>\n"
     ]
    }
   ],
   "source": [
    "# want a number as input\n",
    "n1= int(input(\"enter a number\"))\n",
    "print(n1,type(n1))"
   ]
  },
  {
   "cell_type": "markdown",
   "metadata": {},
   "source": [
    "## operators\n",
    "*operator is a symbols used to perform specific operations"
   ]
  },
  {
   "cell_type": "code",
   "execution_count": 26,
   "metadata": {},
   "outputs": [
    {
     "name": "stdout",
     "output_type": "stream",
     "text": [
      "1244\n",
      "1224\n",
      "12340\n",
      "123.4\n",
      "4\n",
      "123\n",
      "8187505353567209228244052427776\n"
     ]
    }
   ],
   "source": [
    "n1=1234\n",
    "print(n1+10)\n",
    "print(n1-10)\n",
    "print(n1*10)\n",
    "print(n1/10)\n",
    "print(n1%10)\n",
    "print(n1//10)\n",
    "print(n1**10)"
   ]
  },
  {
   "cell_type": "code",
   "execution_count": null,
   "metadata": {},
   "outputs": [],
   "source": [
    "precedence of the arth operators\n",
    ".perenthesis\n",
    ".power\n",
    ".division\n",
    ".multiplication\n",
    ".addition\n",
    ".sub\\\n",
    "\n",
    "\n"
   ]
  },
  {
   "cell_type": "code",
   "execution_count": 27,
   "metadata": {},
   "outputs": [
    {
     "name": "stdout",
     "output_type": "stream",
     "text": [
      "8.0\n"
     ]
    }
   ],
   "source": [
    "x=1+2**3/4+5\n",
    "print(x)"
   ]
  },
  {
   "cell_type": "code",
   "execution_count": 29,
   "metadata": {},
   "outputs": [
    {
     "ename": "SyntaxError",
     "evalue": "invalid syntax (<ipython-input-29-730c91793b7e>, line 1)",
     "output_type": "error",
     "traceback": [
      "\u001b[1;36m  File \u001b[1;32m\"<ipython-input-29-730c91793b7e>\"\u001b[1;36m, line \u001b[1;32m1\u001b[0m\n\u001b[1;33m    Relation operators\u001b[0m\n\u001b[1;37m                     ^\u001b[0m\n\u001b[1;31mSyntaxError\u001b[0m\u001b[1;31m:\u001b[0m invalid syntax\n"
     ]
    }
   ],
   "source": [
    "Relation operators\n",
    "== 1[ greater(>).less than(< ).less than and equals to(<=).greater than and equals to(=>)"
   ]
  },
  {
   "cell_type": "code",
   "execution_count": 1,
   "metadata": {},
   "outputs": [
    {
     "name": "stdout",
     "output_type": "stream",
     "text": [
      "enter number 112\n",
      "enter number 216\n",
      "enter number 310\n",
      "16 is the large number\n"
     ]
    }
   ],
   "source": [
    "# find the large number from the given 3 numbers\n",
    "a1 = int(input(\"enter number 1\"))\n",
    "a2 = int(input(\"enter number 2\"))\n",
    "a3 = int(input(\"enter number 3\"))\n",
    "\n",
    "if a1>a2 and a1>a3:\n",
    "    print(a1, \"is the large number\")\n",
    "elif a2>a1 and a2>a3:\n",
    "    print(a2, \"is the large number\")\n",
    "else:\n",
    "    print(a3,\"is the large number\")"
   ]
  },
  {
   "cell_type": "code",
   "execution_count": 6,
   "metadata": {},
   "outputs": [
    {
     "name": "stdout",
     "output_type": "stream",
     "text": [
      "enter a year2000\n",
      "leap year\n"
     ]
    }
   ],
   "source": [
    "# check if a year is leap year at\n",
    "a=int(input(\"enter a year\"))\n",
    "if a %4== 0:\n",
    "    print(\"leap year\")\n",
    "else:\n",
    "    print(\"not a leap year5\")"
   ]
  },
  {
   "cell_type": "markdown",
   "metadata": {},
   "source": [
    "# iteration"
   ]
  },
  {
   "cell_type": "markdown",
   "metadata": {},
   "source": [
    "## while loop syntax"
   ]
  },
  {
   "cell_type": "code",
   "execution_count": null,
   "metadata": {},
   "outputs": [],
   "source": [
    "while boolean_condition\n",
    "statements\n",
    "increment/decrement"
   ]
  },
  {
   "cell_type": "code",
   "execution_count": 4,
   "metadata": {},
   "outputs": [
    {
     "name": "stdout",
     "output_type": "stream",
     "text": [
      "Gitam\n",
      "Gitam\n",
      "Gitam\n",
      "Gitam\n",
      "Gitam\n"
     ]
    }
   ],
   "source": [
    "# need print \"Gitam\" for 5 times\n",
    "print(\"Gitam\")\n",
    "print(\"Gitam\")\n",
    "print(\"Gitam\")\n",
    "print(\"Gitam\")\n",
    "print(\"Gitam\")"
   ]
  },
  {
   "cell_type": "code",
   "execution_count": 7,
   "metadata": {},
   "outputs": [
    {
     "name": "stdout",
     "output_type": "stream",
     "text": [
      "Gitam\n",
      "Gitam\n",
      "Gitam\n",
      "Gitam\n",
      "Gitam\n"
     ]
    }
   ],
   "source": [
    "a=0\n",
    "while a<5 :\n",
    "    print(\"Gitam\")\n",
    "    a=a+1"
   ]
  },
  {
   "cell_type": "code",
   "execution_count": 8,
   "metadata": {},
   "outputs": [
    {
     "name": "stdout",
     "output_type": "stream",
     "text": [
      "enter a number10\n",
      "12345678910"
     ]
    }
   ],
   "source": [
    "# print n naturial number using while loop\n",
    "# input - 10\n",
    "# output - 1 2 3.........10\n",
    "n = int(input(\"enter a number\"))\n",
    "i =1\n",
    "while i <=n :\n",
    "    print(i,end =\"\")\n",
    "    i =i+1\n"
   ]
  },
  {
   "cell_type": "code",
   "execution_count": 7,
   "metadata": {},
   "outputs": [
    {
     "name": "stdout",
     "output_type": "stream",
     "text": [
      "enter n10\n",
      "30\n"
     ]
    }
   ],
   "source": [
    "\n",
    "i = 1\n",
    "n= int(input(\"enter n\"))\n",
    "sum = 0\n",
    "while i<=n:\n",
    "    if (i%2==0):\n",
    "        sum=sum+i\n",
    "    i=i+1\n",
    "print(sum)    "
   ]
  },
  {
   "cell_type": "code",
   "execution_count": 6,
   "metadata": {},
   "outputs": [
    {
     "name": "stdout",
     "output_type": "stream",
     "text": [
      "enter a number123\n",
      "321"
     ]
    }
   ],
   "source": [
    "# number as a number ...123\n",
    "# print the digits of given number : 321\n",
    "n=int(input(\"enter a number\"))\n",
    "while n>0:\n",
    "    r=n%10\n",
    "    n=n//10\n",
    "    print(r,end=\"\")\n"
   ]
  },
  {
   "cell_type": "markdown",
   "metadata": {},
   "source": [
    "# functional programming\n",
    "\n",
    "\n",
    "## simple\n",
    "\n",
    "\n",
    "## easy\n",
    "\n",
    "\n",
    "## lengthy program is divided into sub programs"
   ]
  },
  {
   "cell_type": "code",
   "execution_count": null,
   "metadata": {},
   "outputs": [],
   "source": [
    "def name of the function(<parameyers>):\n",
    "    statement\n",
    "    return"
   ]
  },
  {
   "cell_type": "code",
   "execution_count": 8,
   "metadata": {},
   "outputs": [
    {
     "data": {
      "text/plain": [
       "6"
      ]
     },
     "execution_count": 8,
     "metadata": {},
     "output_type": "execute_result"
    }
   ],
   "source": [
    "def addevendigits(n):\n",
    "    sum = 0\n",
    "    while n!=0:\n",
    "        r= n % 10\n",
    "        if r % 2 == 0:\n",
    "            sum=sum + r\n",
    "        n = n//10     \n",
    "    return sum\n",
    "addevendigits(1234)"
   ]
  },
  {
   "cell_type": "code",
   "execution_count": 10,
   "metadata": {
    "scrolled": true
   },
   "outputs": [
    {
     "data": {
      "text/plain": [
       "9"
      ]
     },
     "execution_count": 10,
     "metadata": {},
     "output_type": "execute_result"
    }
   ],
   "source": [
    "def printlarge(n):\n",
    "    large = 0\n",
    "    while n != 0:\n",
    "        r = n % 10\n",
    "        if large < r:\n",
    "            large = r\n",
    "        n = n // 10\n",
    "    return large\n",
    "printlarge (19528)"
   ]
  },
  {
   "cell_type": "code",
   "execution_count": 11,
   "metadata": {},
   "outputs": [
    {
     "name": "stdout",
     "output_type": "stream",
     "text": [
      "enter n123\n",
      "321\n"
     ]
    }
   ],
   "source": [
    "n=int(input(\"enter n\"))\n",
    "reverse=0\n",
    "while(n>0):\n",
    "    r=n%10\n",
    "    reverse=(reverse*10)+r\n",
    "    n=n//10\n",
    "print(reverse)"
   ]
  },
  {
   "cell_type": "code",
   "execution_count": 12,
   "metadata": {},
   "outputs": [
    {
     "name": "stdout",
     "output_type": "stream",
     "text": [
      "No\n",
      "No\n"
     ]
    }
   ],
   "source": [
    "def ispalindrome(n):\n",
    "    rev = 0\n",
    "    buffer = n\n",
    "    while n != 0:\n",
    "        r = n % 10\n",
    "        rev = rev * 10 + r\n",
    "        n = n // 10\n",
    "        if buffer ==rev:\n",
    "            return \"yes\"\n",
    "        else:\n",
    "            return\"No\"\n",
    "        \n",
    "print(ispalindrome(123))\n",
    "print(ispalindrome(121))\n",
    "        "
   ]
  },
  {
   "cell_type": "code",
   "execution_count": 13,
   "metadata": {},
   "outputs": [
    {
     "name": "stdout",
     "output_type": "stream",
     "text": [
      "111213141516171819202122232425"
     ]
    }
   ],
   "source": [
    "# To print numbers between the range\n",
    "def printseries(lb,ub):\n",
    "    for x in range(lb,ub+1):\n",
    "        print(x,end=\"\")\n",
    "    return\n",
    "printseries(11,25)"
   ]
  },
  {
   "cell_type": "code",
   "execution_count": 4,
   "metadata": {},
   "outputs": [
    {
     "data": {
      "text/plain": [
       "True"
      ]
     },
     "execution_count": 4,
     "metadata": {},
     "output_type": "execute_result"
    }
   ],
   "source": [
    "# given number is prime number or not\n",
    "def isprime(n):\n",
    "    flag = True\n",
    "    for i in range(2,n//2+1):\n",
    "        if n % i == 0:\n",
    "            flag = False\n",
    "            return flag\n",
    "        return flag\n",
    "isprime(11)\n",
    "            \n",
    "            \n",
    "    \n",
    "    "
   ]
  },
  {
   "cell_type": "code",
   "execution_count": 16,
   "metadata": {},
   "outputs": [
    {
     "data": {
      "text/plain": [
       "4"
      ]
     },
     "execution_count": 16,
     "metadata": {},
     "output_type": "execute_result"
    }
   ],
   "source": [
    "def prime(n):\n",
    "    cnt=0\n",
    "    for a in range (2,n+1):\n",
    "        k=0\n",
    "        for i in range(2,a//2+1):\n",
    "            if a%i==0:\n",
    "                k = k+1\n",
    "        if (k<=0):\n",
    "            cnt = cnt+1\n",
    "    return cnt\n",
    "    \n",
    "prime(10)  \n",
    "                "
   ]
  },
  {
   "cell_type": "code",
   "execution_count": 2,
   "metadata": {},
   "outputs": [
    {
     "data": {
      "text/plain": [
       "'yes'"
      ]
     },
     "execution_count": 2,
     "metadata": {},
     "output_type": "execute_result"
    }
   ],
   "source": [
    "# if sum of individual number factorial is same as original number print yes orelse no\n",
    "def fact(n):\n",
    "    fact=1\n",
    "    for i in range (1,n+1):\n",
    "        fact=fact*i\n",
    "    return fact\n",
    "def factsum(n):\n",
    "    sum=0\n",
    "    a=n\n",
    "    while n!=0:\n",
    "        r=n%10\n",
    "        sum=sum+fact(r)\n",
    "        n=n//10\n",
    "    if(sum==a):\n",
    "        return \"yes\"\n",
    "    else:\n",
    "        return \"no\"\n",
    "        return\n",
    "factsum(145)    \n",
    "    "
   ]
  },
  {
   "cell_type": "code",
   "execution_count": 4,
   "metadata": {},
   "outputs": [
    {
     "name": "stdout",
     "output_type": "stream",
     "text": [
      "628"
     ]
    }
   ],
   "source": [
    "# function to generatea perfect numbers between given range\n",
    "def perfect(n):\n",
    "    a=n\n",
    "    sum=0\n",
    "    for i in range (1,n):\n",
    "        if n%i==0:\n",
    "            sum=sum+i\n",
    "        i=i+1\n",
    "    if sum==n:\n",
    "        return True\n",
    "    else:\n",
    "        return False\n",
    "    return\n",
    "def cntperfect(lb,ub):\n",
    "        for x in range(lb,ub+1):\n",
    "            if perfect(lb)==True:\n",
    "                print(x,end=\"\")\n",
    "            lb=lb+1\n",
    "        return   \n",
    "cntperfect(1,100)        "
   ]
  },
  {
   "cell_type": "code",
   "execution_count": 2,
   "metadata": {},
   "outputs": [
    {
     "data": {
      "text/plain": [
       "9"
      ]
     },
     "execution_count": 2,
     "metadata": {},
     "output_type": "execute_result"
    }
   ],
   "source": [
    "# function to return the count of palindrome between two limits\n",
    "def pali(n):\n",
    "    a=n\n",
    "    sum=0\n",
    "    while n!=0:\n",
    "        r=n%10\n",
    "        sum=sum*10+r\n",
    "        n=n//10\n",
    "    if(a==sum):\n",
    "        return True\n",
    "    else:\n",
    "        return False\n",
    "    return\n",
    "def cntpail(lb,ub):\n",
    "    cnt=0\n",
    "    while (lb!=ub):\n",
    "         if(pali(lb)==True):\n",
    "                cnt=cnt+1\n",
    "                lb=lb+1\n",
    "    return cnt\n",
    "cntpail(1,10)        "
   ]
  },
  {
   "cell_type": "code",
   "execution_count": 1,
   "metadata": {},
   "outputs": [
    {
     "name": "stdout",
     "output_type": "stream",
     "text": [
      "1 5 9 13\n"
     ]
    }
   ],
   "source": [
    "a,b,c,d=range(1,14,4)\n",
    "print(a,b,c,d)"
   ]
  },
  {
   "cell_type": "code",
   "execution_count": 2,
   "metadata": {},
   "outputs": [
    {
     "name": "stdout",
     "output_type": "stream",
     "text": [
      "p\n",
      "n\n",
      "6\n",
      "o\n"
     ]
    }
   ],
   "source": [
    "s1=\"python\"\n",
    "print(s1[0]) #access the first character\n",
    "print(s1[5])#acces the last character\n",
    "print(len(s1))#length of the s1\n",
    "print(s1 [len(s1)-2]) #access of the last second character using length of s1"
   ]
  },
  {
   "cell_type": "code",
   "execution_count": 3,
   "metadata": {},
   "outputs": [
    {
     "name": "stdout",
     "output_type": "stream",
     "text": [
      "n\n",
      "t\n",
      "py\n",
      "pyt\n",
      "h\n",
      "thon\n"
     ]
    }
   ],
   "source": [
    "print(s1[-1]) #last charater index is -1\n",
    "print(s1[-4]) #acces of 3rd character\n",
    "print(s1[0:2])#access of first two characters\n",
    "print(s1[:3])#by default the first one is zero and access the characters upto 3 in a\n",
    "print(s1[-3]) # starting from last third character to eding\n",
    "print(s1[2:])# starting from second character till last ending character "
   ]
  },
  {
   "cell_type": "code",
   "execution_count": 7,
   "metadata": {},
   "outputs": [
    {
     "name": "stdout",
     "output_type": "stream",
     "text": [
      "ytho\n",
      "h\n",
      "nohtyp\n",
      "no\n",
      "pto\n",
      "nhy\n"
     ]
    }
   ],
   "source": [
    "#printing of all characterts except first and last\n",
    "print(s1[1:-1])\n",
    "print(s1[len(s1)//2]) #printing the middle character of length of s1\n",
    "print(s1[-1::-1]) #reverse of a string\n",
    "print(s1[-1:-3:-1]) #access of last two characters in reverse order\n",
    "print(s1[::2]) #aiternate characters jumpof 2\n",
    "print(s1[::-2]) #alternate characters with jump of 3"
   ]
  },
  {
   "cell_type": "code",
   "execution_count": 12,
   "metadata": {},
   "outputs": [],
   "source": [
    "#to print upper case letters in a word\n",
    "def uppercase(str):\n",
    "    for i in range (len(str)):\n",
    "        if ord(str[i])>=65and ord(str[i])<=90:\n",
    "            print(str[i])\n",
    "    return\n",
    "uppercase(\"phanindra\")"
   ]
  },
  {
   "cell_type": "code",
   "execution_count": null,
   "metadata": {},
   "outputs": [],
   "source": []
  }
 ],
 "metadata": {
  "kernelspec": {
   "display_name": "Python 3",
   "language": "python",
   "name": "python3"
  },
  "language_info": {
   "codemirror_mode": {
    "name": "ipython",
    "version": 3
   },
   "file_extension": ".py",
   "mimetype": "text/x-python",
   "name": "python",
   "nbconvert_exporter": "python",
   "pygments_lexer": "ipython3",
   "version": "3.7.3"
  }
 },
 "nbformat": 4,
 "nbformat_minor": 2
}
