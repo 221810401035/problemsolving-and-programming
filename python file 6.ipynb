{
 "cells": [
  {
   "cell_type": "markdown",
   "metadata": {},
   "source": [
    "## Regular Expressions\n",
    "- pattern matching\n",
    "- pattern(re) package\n",
    "- [0-9]---> any digit matching\n",
    "- two digits number (^[0-9]{2}$)\n",
    "- five digit number(^[0-9]{5}$)"
   ]
  },
  {
   "cell_type": "markdown",
   "metadata": {},
   "source": [
    "## Regular Expressions for characters\n",
    "- ^[a-z]$"
   ]
  },
  {
   "cell_type": "code",
   "execution_count": 2,
   "metadata": {},
   "outputs": [
    {
     "name": "stdout",
     "output_type": "stream",
     "text": [
      "True\n",
      "False\n"
     ]
    }
   ],
   "source": [
    "# function to test two digit number matching\n",
    "import re\n",
    "def twodigitmatching(n):\n",
    "    pattern ='^[0-9]{2}$'\n",
    "    n = str(n)\n",
    "    if re.match(pattern,n):\n",
    "        return True\n",
    "    return False\n",
    "print(twodigitmatching(12)) # True\n",
    "print(twodigitmatching(123)) # False"
   ]
  },
  {
   "cell_type": "code",
   "execution_count": 3,
   "metadata": {},
   "outputs": [
    {
     "name": "stdout",
     "output_type": "stream",
     "text": [
      "True\n",
      "False\n"
     ]
    }
   ],
   "source": [
    "# function to define to test username having 8 characters\n",
    "# upper case and lower\n",
    "def testusername(s):\n",
    "    pattern ='^[a-zA-z]{8}$'\n",
    "    if re.match(pattern,s):\n",
    "        return True\n",
    "    return False\n",
    "print(testusername('GitamHYD'))\n",
    "print(testusername('Gitam188'))"
   ]
  },
  {
   "cell_type": "markdown",
   "metadata": {},
   "source": [
    "# Regular Expression to match the indian mobile number\n",
    "\n",
    "# . 10 digits\n",
    "#  . (first digit will be [6-9]) and remaining 9 digits will be [0-90]\n",
    "# . Example:-9988552266\n",
    "# re - ^[6-9][0-9]{9}$"
   ]
  },
  {
   "cell_type": "code",
   "execution_count": 4,
   "metadata": {},
   "outputs": [
    {
     "data": {
      "text/plain": [
       "True"
      ]
     },
     "execution_count": 4,
     "metadata": {},
     "output_type": "execute_result"
    }
   ],
   "source": [
    "# function to validata the indian mobile number\n",
    "def phoneNumbervalidation(phone):\n",
    "    pattern ='^[6-9[0-9]{9}$|^[0][6-9][0-9]{9}$|^[+][9][1][6-9][0-9]{9}$'\n",
    "    phone = str(phone)\n",
    "    if re.match(pattern,phone):\n",
    "        return True\n",
    "    return False\n",
    "phoneNumbervalidation('+919988552266')"
   ]
  },
  {
   "cell_type": "markdown",
   "metadata": {},
   "source": [
    "# . Regular expression to validate the Rollnumber\n",
    " \n",
    " ## . example : 1521A0501\n",
    " ##  . example : 1521A0109\n",
    " ##  . example :  1521A0499\n",
    " \n",
    " #   . Regular Expression to validate the password\n",
    "  \n",
    "##  . parameters : len min of 6 characters and max of 15 characters\n",
    "\n",
    "\n",
    "## . accept lower case.upper case,digits spl char (@.#,!)"
   ]
  },
  {
   "cell_type": "code",
   "execution_count": 5,
   "metadata": {},
   "outputs": [
    {
     "data": {
      "text/plain": [
       "True"
      ]
     },
     "execution_count": 5,
     "metadata": {},
     "output_type": "execute_result"
    }
   ],
   "source": [
    "def rollnumbervalidation(rollnumber):\n",
    "    pattern = '^[1][5][2][1][A][0-9]{4}$'\n",
    "    rollnumber = str(rollnumber)\n",
    "    if re.match(pattern,rollnumber):\n",
    "        return True\n",
    "    return False\n",
    "rollnumbervalidation('1521A0499')\n"
   ]
  },
  {
   "cell_type": "code",
   "execution_count": 6,
   "metadata": {},
   "outputs": [
    {
     "name": "stdout",
     "output_type": "stream",
     "text": [
      "True\n"
     ]
    }
   ],
   "source": [
    "def password(s):\n",
    "    pattern ='^[!-~]{6,15}$'\n",
    "    if re.match(pattern,s):\n",
    "        return True\n",
    "    return False\n",
    "print(password(\"Ap@18151925\"))"
   ]
  },
  {
   "cell_type": "markdown",
   "metadata": {},
   "source": [
    "###  Email id vaildation using Regular Expression\n",
    "- example :- username@domainname.extension\n",
    "- username :-\n",
    "         - length will be [6-15]\n",
    "         - no spls characters apart from underscore()\n",
    "         - should not begain and end with underscore()\n",
    "         - characters set : All digits and lower case\n",
    "         \n",
    "         \n",
    " ###  . Domainname:-\n",
    " \n",
    " \n",
    "          - Length will be [3-18]\n",
    "          - No spls characters \n",
    "          - character set : All digits and lower case\n",
    "          \n",
    "##  . Extension:-\n",
    "           \n",
    "           - Length will be  [2-4]\n",
    "           -No spl characters\n",
    "           - character set : lower case characters"
   ]
  },
  {
   "cell_type": "code",
   "execution_count": 7,
   "metadata": {},
   "outputs": [
    {
     "data": {
      "text/plain": [
       "True"
      ]
     },
     "execution_count": 7,
     "metadata": {},
     "output_type": "execute_result"
    }
   ],
   "source": [
    "def emailidvalidation(email):\n",
    "    pattern = '^[0-9a-z][0-9a-z_.]{5,14}[@][a-z0-9]{3,18}[.][a-z]{2,4}$'\n",
    "    if re.match(pattern,email):\n",
    "        return True\n",
    "    return False\n",
    "emailidvalidation('anilkumar189@gmail.com')"
   ]
  },
  {
   "cell_type": "code",
   "execution_count": 8,
   "metadata": {},
   "outputs": [],
   "source": [
    "# step 1 : make  all the turtle package to be imported\n",
    "import turtle\n",
    "# turtle method created and returns a new object\n",
    "a1 = turtle.Turtle()\n",
    "# forward() method moves 100 pixels\n",
    "turtle.forward(250)\n",
    "# we are done\n",
    "turtle.done()"
   ]
  },
  {
   "cell_type": "code",
   "execution_count": null,
   "metadata": {
    "scrolled": true
   },
   "outputs": [],
   "source": [
    "# line draw in reverse direction\n",
    "import turtle as tt\n",
    "a1 = tt.turtle()\n",
    "a1.backward(100)\n",
    "tt.done()"
   ]
  },
  {
   "cell_type": "code",
   "execution_count": null,
   "metadata": {},
   "outputs": [],
   "source": [
    "# draw square\n",
    "import turtle as tt\n",
    "a1= tt.turtle()\n",
    "a1.forward(150)\n",
    "a1.right(90)\n",
    "a1.forward(150)\n",
    "a1.right(90)\n",
    "a1.forward(150)\n",
    "a1.right(90)\n",
    "a1.forward(150)\n",
    "a1.right(90)\n",
    "tt.done()"
   ]
  },
  {
   "cell_type": "code",
   "execution_count": null,
   "metadata": {},
   "outputs": [],
   "source": [
    "# draw the square\n",
    "import turtle as t\n",
    "aa= t.Turtle()\n",
    "aa.backward(150)\n",
    "aa.left(90)\n",
    "aa.backward(150)\n",
    "aa.left(90)\n",
    "aa.backward(150)\n",
    "aa.left(90)\n",
    "aa.backward(150)\n",
    "aa.left(90)\n",
    "t.done()\n"
   ]
  },
  {
   "cell_type": "code",
   "execution_count": null,
   "metadata": {},
   "outputs": [],
   "source": [
    "# star\n",
    "import turtle as t\n",
    "a1 = t.Turtle() \n",
    "for i in range(40):\n",
    "    a1.forward(50)\n",
    "    a1.right(144)\n",
    "t.done()"
   ]
  },
  {
   "cell_type": "code",
   "execution_count": null,
   "metadata": {},
   "outputs": [],
   "source": [
    "# spiraling star\n",
    "import Turtle as t\n",
    "a1 = t.turtle()\n",
    "a1.pencolor('blue')\n",
    "for i in range(40):\n",
    "    a1. forward(i*10)\n",
    "    a1.right(144)\n",
    "t.done()    "
   ]
  },
  {
   "cell_type": "code",
   "execution_count": null,
   "metadata": {},
   "outputs": [],
   "source": [
    "# square sprial help of turtle\n",
    "import turtle as t\n",
    "a1 = t.Turtle()\n",
    "for i in range(250):\n",
    "    a1.forward(i)\n",
    "    a1.left(91)\n",
    "t.done()"
   ]
  },
  {
   "cell_type": "code",
   "execution_count": 2,
   "metadata": {},
   "outputs": [],
   "source": [
    "# hexagon with multi colour\n",
    "from turtle import*\n",
    "color= ['blue','green','yellow','orange','purple','red']\n",
    "for x in range(360):\n",
    "    pencolor(color[x%6])\n",
    "    width(x/100+1)\n",
    "    forward(x)\n",
    "    left(59)"
   ]
  },
  {
   "cell_type": "code",
   "execution_count": null,
   "metadata": {},
   "outputs": [],
   "source": [
    "# gotop function\n",
    "\n",
    "from turtle import*\n",
    "goto(50,50)\n",
    "goto(-50,50)\n",
    "goto(100,-50)\n",
    "goto(-50,-50)"
   ]
  },
  {
   "cell_type": "code",
   "execution_count": 1,
   "metadata": {},
   "outputs": [],
   "source": [
    "# setheading(heading)\n",
    "# will change the current direction to the heading angle\n",
    "from turtle import*\n",
    "colors = ['blue','green','yellow','orange','purple','red']\n",
    "for angle in range(0,360,15):\n",
    "    pencolor(colors[angle%6])\n",
    "    setheading(angle)\n",
    "    forward(100)\n",
    "    write(str(angle)+'0')\n",
    "    backward(100)"
   ]
  },
  {
   "cell_type": "code",
   "execution_count": 2,
   "metadata": {},
   "outputs": [],
   "source": [
    "# undo() function will undo the turtle last action\n",
    "from turtle import*\n",
    "pencolor('blue')\n",
    "for i in range(15):\n",
    "    forward(100)\n",
    "    left(90)\n",
    "    forward(10)\n",
    "    left(90)\n",
    "    forward(100)\n",
    "    right(90)\n",
    "    forward(10)\n",
    "    right(90)\n",
    "pencolor('red')\n",
    "for i in range(90):\n",
    "    undo()    "
   ]
  },
  {
   "cell_type": "code",
   "execution_count": 1,
   "metadata": {},
   "outputs": [],
   "source": [
    "from turtle important *\n",
    "pensize(50)\n",
    "pencolor('blue')\n",
    "forward(250)\n",
    "pencolor(0,1,0,0)\n",
    "forward(250)\n",
    "pensize(10)\n",
    "goto(-400,50)\n",
    "\n",
    "\n",
    "for red in range(4):\n",
    "    for green in range(4):\n",
    "        for blue in range(4):\n",
    "            pencolor(red/4.0,green/4.0,balu/4.0)\n",
    "            forward(10)"
   ]
  }
 ],
 "metadata": {
  "kernelspec": {
   "display_name": "Python 3",
   "language": "python",
   "name": "python3"
  }
 },
 "nbformat": 4,
 "nbformat_minor": 2
}
