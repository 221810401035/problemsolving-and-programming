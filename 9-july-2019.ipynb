{
 "cells": [
  {
   "cell_type": "markdown",
   "metadata": {},
   "source": []
  },
  {
   "cell_type": "code",
   "execution_count": 1,
   "metadata": {},
   "outputs": [
    {
     "name": "stdout",
     "output_type": "stream",
     "text": [
      "[1, 2, 32, 24, 45]\n"
     ]
    }
   ],
   "source": [
    "lst = [1,2,32,24,45]\n",
    "print(lst) #Access the entire list"
   ]
  },
  {
   "cell_type": "code",
   "execution_count": 2,
   "metadata": {},
   "outputs": [
    {
     "name": "stdout",
     "output_type": "stream",
     "text": [
      "[1, 5, 7, 9, 6]\n",
      "1\n",
      "5\n",
      "6\n",
      "9\n",
      "[5, 7, 9, 6]\n",
      "[5, 7, 9]\n",
      "1\n",
      "9\n",
      "28\n",
      "5\n",
      "7.0\n",
      "[1, 5, 7, 9, 6, 4]\n",
      "[1, 1, 5, 7, 9, 6, 4]\n",
      "[1, 1, 5, 7, 9, 6, 4]\n",
      "[1, 1, 4, 5, 6, 7, 9]\n",
      "[1, 1, 4, 5, 6, 7]\n",
      "[1, 4, 5, 6, 7]\n",
      "[1, 4, 5, 6, 7, 100, 200, 300]\n",
      "[300, 200, 100]\n",
      "[1, 4, 5, 6, 7, 100, 200, 300]\n",
      "[1, 4, 5, 6, 7, 100, 300]\n"
     ]
    }
   ],
   "source": [
    "lst = [1,5,7,9,6]\n",
    "print(lst)\n",
    "print(lst[0])\n",
    "print(lst[1])\n",
    "print(lst[-1])\n",
    "print(lst[-2])\n",
    "print(lst[1:])\n",
    "print(lst[1:4])\n",
    "print(min(lst))\n",
    "print(max(lst))\n",
    "print(sum(lst))\n",
    "print(sum(lst)//len(lst))\n",
    "print(sum(lst[1::2])/len(lst[1::2]))\n",
    "lst\n",
    "lst.append(4)\n",
    "print(lst)\n",
    "lst\n",
    "lst.insert(1,1)\n",
    "print(lst)\n",
    "lst\n",
    "lst.count(1)\n",
    "print(lst)\n",
    "lst\n",
    "lst.sort()\n",
    "print(lst)\n",
    "lst\n",
    "lst.pop()\n",
    "print(lst)\n",
    "lst.pop(1)\n",
    "print(lst)\n",
    "lst2 =[100,200,300]\n",
    "lst.extend(lst2)\n",
    "print(lst)\n",
    "lst2.reverse()\n",
    "print(lst2)\n",
    "lst2.remove(200)\n",
    "print(lst)\n",
    "lst.remove(200)\n",
    "print(lst)\n"
   ]
  },
  {
   "cell_type": "code",
   "execution_count": 2,
   "metadata": {},
   "outputs": [
    {
     "data": {
      "text/plain": [
       "40"
      ]
     },
     "execution_count": 2,
     "metadata": {},
     "output_type": "execute_result"
    }
   ],
   "source": [
    "def secodlarge(lst):\n",
    "    lst.sort()\n",
    "    return lst[-2]\n",
    "lst = [30,40,50]\n",
    "secodlarge(lst)"
   ]
  },
  {
   "cell_type": "code",
   "execution_count": 4,
   "metadata": {},
   "outputs": [
    {
     "name": "stdout",
     "output_type": "stream",
     "text": [
      "138155"
     ]
    }
   ],
   "source": [
    "# output : fromatted output\n",
    "# test case :\n",
    "# [1,2,3,4,5]--[1,3,8,15,5]\n",
    "# [6,5,2,8,2]--[6,12,40,4,2]\n",
    "def linearsearch5(li):\n",
    "    for x in range(len(li)):\n",
    "        if x == 0 or x == len(li) -1:\n",
    "            print(li[x],end=\"\")\n",
    "        else:\n",
    "            print(li[x-1]*li[x+1],end=\"\")\n",
    "    return\n",
    "li =[1,2,3,4,5]\n",
    "linearsearch5(li)        "
   ]
  },
  {
   "cell_type": "code",
   "execution_count": 5,
   "metadata": {},
   "outputs": [
    {
     "data": {
      "text/plain": [
       "6"
      ]
     },
     "execution_count": 5,
     "metadata": {},
     "output_type": "execute_result"
    }
   ],
   "source": [
    "#function to find the second large element in the list\n",
    "def secondlarge(li):\n",
    "    li.sort() #sorts the list\n",
    "    return li[-2]      #returns the last second index from reverse\n",
    "def genericlarge(li,n):   #to print the nth large item\n",
    "    li.sort()\n",
    "    return li[-n]\n",
    "li=[1,19,6,2,8,18,3]\n",
    "genericlarge(li,4)       # to print the 4th large item"
   ]
  },
  {
   "cell_type": "markdown",
   "metadata": {},
   "source": [
    "# searching algorithm\n",
    "\n",
    "\n",
    "## Linear search\n",
    "\n",
    "\n",
    "## Binary search\n",
    "\n",
    "\n",
    "## Linear search\n",
    "\n",
    "Linear search algorithm can be applied on duplicate and unique list\n",
    "\n",
    "unique list: the all items of the list is appeared only one\n",
    "\n",
    "Duplicate list: the all items of the list is appeared more than one time\n",
    "\n",
    "The items of the test can be applied on sorted list or unsorted list "
   ]
  },
  {
   "cell_type": "code",
   "execution_count": 6,
   "metadata": {},
   "outputs": [
    {
     "name": "stdout",
     "output_type": "stream",
     "text": [
      "2\n",
      "-1\n"
     ]
    }
   ],
   "source": [
    "def linearsearch(li,taritem):\n",
    "    for i in range (len(li)):\n",
    "        if li[i]==taritem:\n",
    "            return i\n",
    "    return -1\n",
    "li=[1,6,36,12,4,7,3]  #this is a unique list\n",
    "print(linearsearch(li,36))\n",
    "print(linearsearch(li,22))"
   ]
  },
  {
   "cell_type": "code",
   "execution_count": 7,
   "metadata": {},
   "outputs": [
    {
     "name": "stdout",
     "output_type": "stream",
     "text": [
      "2467"
     ]
    }
   ],
   "source": [
    "def lineardup(li,srchitem):\n",
    "    for i in range (len(li)):\n",
    "        if li[i]==srchitem:\n",
    "            print(i,end=\"\")\n",
    "    return\n",
    "li=[1,5,3,4,3,6,3,3] # this is a duplicate list\n",
    "lineardup(li,3)"
   ]
  },
  {
   "cell_type": "code",
   "execution_count": 10,
   "metadata": {},
   "outputs": [
    {
     "name": "stdout",
     "output_type": "stream",
     "text": [
      "!!!!!!!!!!!!!!!!!!!"
     ]
    }
   ],
   "source": [
    "def search(li,elem):\n",
    "    for i in range (len(li)):\n",
    "        if li[i]==elem:\n",
    "            j=0\n",
    "            while j!=i+1:\n",
    "                print(\"!\",end=\"\")\n",
    "                j=j+1\n",
    "            print(end=\"\")\n",
    "    return\n",
    "li=[1,5,9,5,5,6,7,5,6]\n",
    "search(li,5)"
   ]
  },
  {
   "cell_type": "code",
   "execution_count": 11,
   "metadata": {},
   "outputs": [
    {
     "data": {
      "text/plain": [
       "60"
      ]
     },
     "execution_count": 11,
     "metadata": {},
     "output_type": "execute_result"
    }
   ],
   "source": [
    "def mul(li):\n",
    "    sum=0\n",
    "    for i in range (len(li)):\n",
    "        if li[i]%3==0 and li[i]%5==0:\n",
    "            sum=sum+li[i]\n",
    "    return sum\n",
    "li=[12,2,45,9,18,15,36]\n",
    "mul(li)"
   ]
  },
  {
   "cell_type": "code",
   "execution_count": 12,
   "metadata": {},
   "outputs": [
    {
     "name": "stdout",
     "output_type": "stream",
     "text": [
      "138155"
     ]
    }
   ],
   "source": [
    "def res(li):\n",
    "    for i in range (len(li)):\n",
    "        if i==0 or i==len(li)-1:\n",
    "            print(li[i],end=\"\")\n",
    "        else:\n",
    "            print(li[i-1]*li[i+1],end=\"\")\n",
    "    return\n",
    "li=[1,2,3,4,5]\n",
    "res(li)"
   ]
  },
  {
   "cell_type": "code",
   "execution_count": 4,
   "metadata": {},
   "outputs": [
    {
     "name": "stdout",
     "output_type": "stream",
     "text": [
      "1 9 19 22 "
     ]
    }
   ],
   "source": [
    "def res(li):\n",
    "    for i in range(len(li)):\n",
    "        if i==0 or i==len(li)-1:\n",
    "            print(li[i],end=\" \")\n",
    "        elif li[i-1]%2==0 and li[i+1]%2==0:\n",
    "            print(li[i],end=\" \")\n",
    "    return\n",
    "li=[1,6,9,4,16,19,22]\n",
    "res(li)\n",
    "    "
   ]
  },
  {
   "cell_type": "code",
   "execution_count": 10,
   "metadata": {},
   "outputs": [
    {
     "data": {
      "text/plain": [
       "[1, 2, 3, 4, 5, 6]"
      ]
     },
     "execution_count": 10,
     "metadata": {},
     "output_type": "execute_result"
    }
   ],
   "source": [
    "def num(s):\n",
    "    li=s.split()\n",
    "    numberlist=[]\n",
    "    for i in li:\n",
    "        numberlist.append(int(i))\n",
    "    return numberlist\n",
    "s=\"1 2 3 4 5 6\"\n",
    "num(s)"
   ]
  },
  {
   "cell_type": "code",
   "execution_count": 11,
   "metadata": {},
   "outputs": [
    {
     "data": {
      "text/plain": [
       "[1, 9, 9, 0]"
      ]
     },
     "execution_count": 11,
     "metadata": {},
     "output_type": "execute_result"
    }
   ],
   "source": [
    "def num(n):\n",
    "    li=[]\n",
    "    while n!=0:\n",
    "        r=n%10\n",
    "        li.append(r)\n",
    "        n=n//10\n",
    "    li.reverse()\n",
    "    return li\n",
    "num(1990)"
   ]
  },
  {
   "cell_type": "markdown",
   "metadata": {},
   "source": []
  }
 ],
 "metadata": {
  "kernelspec": {
   "display_name": "Python 3",
   "language": "python",
   "name": "python3"
  },
  "language_info": {
   "codemirror_mode": {
    "name": "ipython",
    "version": 3
   },
   "file_extension": ".py",
   "mimetype": "text/x-python",
   "name": "python",
   "nbconvert_exporter": "python",
   "pygments_lexer": "ipython3",
   "version": "3.7.3"
  }
 },
 "nbformat": 4,
 "nbformat_minor": 2
}
